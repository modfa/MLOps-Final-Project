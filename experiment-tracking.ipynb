{
 "cells": [
  {
   "cell_type": "code",
   "execution_count": 1,
   "id": "b3a71c8e",
   "metadata": {},
   "outputs": [],
   "source": [
    "# =============================================================================\n",
    "# PREDICTING PRICE OF PRE-OWNED CARS \n",
    "# =============================================================================\n",
    "\n",
    "import pandas as pd\n",
    "import numpy as np\n",
    "import seaborn as sns\n",
    "import pickle\n",
    "import matplotlib.pyplot as plt"
   ]
  },
  {
   "cell_type": "code",
   "execution_count": 2,
   "id": "4cc3ffe7",
   "metadata": {},
   "outputs": [],
   "source": [
    "\n",
    "from sklearn.feature_extraction import DictVectorizer\n",
    "from sklearn.linear_model import LinearRegression\n",
    "from sklearn.ensemble import RandomForestRegressor\n",
    "\n",
    "from sklearn.metrics import mean_squared_error\n",
    "from sklearn.model_selection import train_test_split"
   ]
  },
  {
   "cell_type": "code",
   "execution_count": 3,
   "id": "2ec8b0c6",
   "metadata": {},
   "outputs": [],
   "source": [
    "def read_dataframe(path_to_file_name):\n",
    "    cars_data=pd.read_csv('cars_sampled.csv' )\n",
    "    cars=cars_data.copy()\n",
    "    col=['name','dateCrawled','dateCreated','postalCode','lastSeen']\n",
    "    cars=cars.drop(columns=col, axis=1)\n",
    "    cars.drop_duplicates(keep='first',inplace=True)\n",
    "    cars = cars[\n",
    "        (cars.yearOfRegistration <= 2018) \n",
    "      & (cars.yearOfRegistration >= 1950) \n",
    "      & (cars.price >= 100) \n",
    "      & (cars.price <= 150000) \n",
    "      & (cars.powerPS >= 10) \n",
    "      & (cars.powerPS <= 500)]\n",
    "    cars['monthOfRegistration']/=12\n",
    "    cars['Age']=(2018-cars['yearOfRegistration'])+cars['monthOfRegistration']\n",
    "    cars['Age']=round(cars['Age'],2)\n",
    "    cars=cars.drop(columns=['yearOfRegistration','monthOfRegistration'], axis=1)\n",
    "    col=['seller','offerType','abtest']\n",
    "    cars=cars.drop(columns=col, axis=1)\n",
    "    cars_copy=cars.copy()\n",
    "    cars_omit=cars_copy.dropna(axis=0)\n",
    "    # Converting categorical variables to dummy variables\n",
    "    cars_omit=pd.get_dummies(cars_omit,drop_first=True) \n",
    "    \n",
    "    # Separating input and output features\n",
    "    x1 = cars_omit.drop(['price'], axis='columns', inplace=False)\n",
    "    y1 = cars_omit['price']\n",
    "\n",
    "#     # Plotting the variable price\n",
    "#     prices = pd.DataFrame({\"1. Before\":y1, \"2. After\":np.log(y1)})\n",
    "#     prices.hist()\n",
    "\n",
    "    # Transforming price as a logarithmic value\n",
    "    y1 = np.log(y1)\n",
    "    # Splitting data into test and train\n",
    "    X_train, X_test, y_train, y_test = train_test_split(x1, y1, test_size=0.3, random_state = 3)\n",
    "#     print(X_train.shape, X_test.shape, y_train.shape, y_test.shape)\n",
    "\n",
    "    \n",
    "    return X_train, X_test, y_train, y_test"
   ]
  },
  {
   "cell_type": "code",
   "execution_count": 4,
   "id": "d3656973",
   "metadata": {},
   "outputs": [],
   "source": [
    "X_train, X_test, y_train, y_test = read_dataframe('cars_sampled.csv')"
   ]
  },
  {
   "cell_type": "code",
   "execution_count": 5,
   "id": "2dbbd03e",
   "metadata": {},
   "outputs": [
    {
     "name": "stdout",
     "output_type": "stream",
     "text": [
      "(23018, 300) (9866, 300) (23018,) (9866,)\n"
     ]
    }
   ],
   "source": [
    "print(X_train.shape, X_test.shape, y_train.shape, y_test.shape)"
   ]
  },
  {
   "cell_type": "code",
   "execution_count": 6,
   "id": "de3d7bbf",
   "metadata": {},
   "outputs": [],
   "source": [
    "train_dict_omit = X_train.to_dict(orient='records')"
   ]
  },
  {
   "cell_type": "code",
   "execution_count": 7,
   "id": "167108cf",
   "metadata": {},
   "outputs": [
    {
     "data": {
      "text/plain": [
       "(23018, 300)"
      ]
     },
     "execution_count": 7,
     "metadata": {},
     "output_type": "execute_result"
    }
   ],
   "source": [
    "dv = DictVectorizer()\n",
    "X_train = dv.fit_transform(train_dict_omit)\n",
    "X_train.shape"
   ]
  },
  {
   "cell_type": "code",
   "execution_count": 9,
   "id": "ceb4ebee",
   "metadata": {},
   "outputs": [
    {
     "data": {
      "text/plain": [
       "0.5455481266513833"
      ]
     },
     "execution_count": 9,
     "metadata": {},
     "output_type": "execute_result"
    }
   ],
   "source": [
    "# lr = LinearRegression()\n",
    "# lr.fit(X_train, y_train)\n",
    "\n",
    "# y_pred = lr.predict(X_test)\n",
    "\n",
    "# mean_squared_error(y_test, y_pred, squared=False)"
   ]
  },
  {
   "cell_type": "code",
   "execution_count": 8,
   "id": "703eeb25",
   "metadata": {},
   "outputs": [
    {
     "name": "stderr",
     "output_type": "stream",
     "text": [
      "/home/modf/anaconda3/lib/python3.9/site-packages/sklearn/base.py:443: UserWarning: X has feature names, but LinearRegression was fitted without feature names\n",
      "  warnings.warn(\n",
      "/home/modf/anaconda3/lib/python3.9/site-packages/sklearn/base.py:443: UserWarning: X has feature names, but LinearRegression was fitted without feature names\n",
      "  warnings.warn(\n"
     ]
    },
    {
     "name": "stdout",
     "output_type": "stream",
     "text": [
      "8317.705544113562\n",
      "-54426919.28843369 0.778953090867219\n"
     ]
    },
    {
     "data": {
      "text/plain": [
       "count    9866.000000\n",
       "mean    -7914.123448\n",
       "std      2559.597552\n",
       "min     -9627.768209\n",
       "25%     -9607.534776\n",
       "50%     -9600.238796\n",
       "75%     -6400.614186\n",
       "max      -290.177838\n",
       "Name: price, dtype: float64"
      ]
     },
     "execution_count": 8,
     "metadata": {},
     "output_type": "execute_result"
    },
    {
     "data": {
      "image/png": "[encoded data removed]",
      "text/plain": [
       "<Figure size 432x288 with 1 Axes>"
      ]
     },
     "metadata": {
      "needs_background": "light"
     },
     "output_type": "display_data"
    }
   ],
   "source": [
    "# Setting intercept as true\n",
    "lgr=LinearRegression(fit_intercept=True)\n",
    "\n",
    "# Model\n",
    "model_lin1=lgr.fit(X_train,y_train)\n",
    "\n",
    "# Predicting model on test set\n",
    "cars_predictions_lin1 = lgr.predict(X_test)\n",
    "\n",
    "# Computing MSE and RMSE\n",
    "lin_mse1 = mean_squared_error(y_test, cars_predictions_lin1)\n",
    "lin_rmse1 = np.sqrt(lin_mse1)\n",
    "print(lin_rmse1)\n",
    "\n",
    "# R squared value\n",
    "r2_lin_test1=model_lin1.score(X_test,y_test)\n",
    "r2_lin_train1=model_lin1.score(X_train,y_train)\n",
    "print(r2_lin_test1,r2_lin_train1)\n",
    "\n",
    "# Regression diagnostics- Residual plot analysis\n",
    "residuals1=y_test-cars_predictions_lin1\n",
    "sns.regplot(x=cars_predictions_lin1, y=residuals1, scatter=True, \n",
    "            fit_reg=False)\n",
    "residuals1.describe()"
   ]
  },
  {
   "cell_type": "code",
   "execution_count": 12,
   "id": "15919c13",
   "metadata": {},
   "outputs": [
    {
     "name": "stderr",
     "output_type": "stream",
     "text": [
      "/home/modf/anaconda3/envs/homework-week2/lib/python3.9/site-packages/sklearn/ensemble/_forest.py:416: FutureWarning: `max_features='auto'` has been deprecated in 1.1 and will be removed in 1.3. To keep the past behaviour, explicitly set `max_features=1.0` or remove this parameter as it is also the default value for RandomForestRegressors and ExtraTreesRegressors.\n",
      "  warn(\n"
     ]
    },
    {
     "name": "stdout",
     "output_type": "stream",
     "text": [
      "0.4360736289370223\n",
      "0.8504018147750623 0.9202494705146291\n"
     ]
    }
   ],
   "source": [
    "# =============================================================================\n",
    "# RANDOM FOREST WITH OMITTED DATA\n",
    "# =============================================================================\n",
    "\n",
    "# Model parameters\n",
    "rf = RandomForestRegressor(n_estimators = 100,max_features='auto',\n",
    "                           max_depth=100,min_samples_split=10,\n",
    "                           min_samples_leaf=4,random_state=1)\n",
    "\n",
    "# Model\n",
    "model_rf1=rf.fit(X_train,y_train)\n",
    "\n",
    "# Predicting model on test set\n",
    "cars_predictions_rf1 = rf.predict(X_test)\n",
    "\n",
    "# Computing MSE and RMSE\n",
    "rf_mse1 = mean_squared_error(y_test, cars_predictions_rf1)\n",
    "rf_rmse1 = np.sqrt(rf_mse1)\n",
    "print(rf_rmse1)\n",
    "\n",
    "# R squared value\n",
    "r2_rf_test1=model_rf1.score(X_test,y_test)\n",
    "r2_rf_train1=model_rf1.score(X_train,y_train)\n",
    "print(r2_rf_test1,r2_rf_train1)   \n"
   ]
  },
  {
   "cell_type": "code",
   "execution_count": 13,
   "id": "5f413e90",
   "metadata": {},
   "outputs": [],
   "source": [
    "with open('./lin_reg.bin', 'wb') as f_out:\n",
    "    pickle.dump( lgr, f_out)\n"
   ]
  },
  {
   "cell_type": "code",
   "execution_count": 14,
   "id": "d5cbeb72",
   "metadata": {},
   "outputs": [],
   "source": [
    "with open('./random_forest.bin', 'wb') as f_out:\n",
    "    pickle.dump( rf, f_out)"
   ]
  },
  {
   "cell_type": "code",
   "execution_count": null,
   "id": "230f3b3c",
   "metadata": {},
   "outputs": [],
   "source": []
  }
 ],
 "metadata": {
  "kernelspec": {
   "display_name": "Python 3 (ipykernel)",
   "language": "python",
   "name": "python3"
  },
  "language_info": {
   "codemirror_mode": {
    "name": "ipython",
    "version": 3
   },
   "file_extension": ".py",
   "mimetype": "text/x-python",
   "name": "python",
   "nbconvert_exporter": "python",
   "pygments_lexer": "ipython3",
   "version": "3.9.12"
  }
 },
 "nbformat": 4,
 "nbformat_minor": 5
}
