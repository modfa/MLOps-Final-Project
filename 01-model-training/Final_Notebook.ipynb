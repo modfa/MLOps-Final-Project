{
 "cells": [
  {
   "cell_type": "code",
   "execution_count": 19,
   "id": "51177c8c",
   "metadata": {},
   "outputs": [],
   "source": [
    "# =============================================================================\n",
    "# PREDICTING PRICE OF PRE-OWNED CARS \n",
    "# =============================================================================\n",
    "\n",
    "import pandas as pd\n",
    "import numpy as np\n",
    "import seaborn as sns\n",
    "import pickle\n",
    "import matplotlib.pyplot as plt"
   ]
  },
  {
   "cell_type": "code",
   "execution_count": 2,
   "id": "00dada2f",
   "metadata": {},
   "outputs": [],
   "source": [
    "# =============================================================================\n",
    "# Reading CSV file\n",
    "# =============================================================================\n",
    "cars_data=pd.read_csv('cars_sampled.csv' )"
   ]
  },
  {
   "cell_type": "code",
   "execution_count": 3,
   "id": "4aa54900",
   "metadata": {},
   "outputs": [],
   "source": [
    "# =============================================================================\n",
    "# Creating copy\n",
    "# =============================================================================\n",
    "cars=cars_data.copy()"
   ]
  },
  {
   "cell_type": "code",
   "execution_count": 4,
   "id": "476d493f",
   "metadata": {},
   "outputs": [],
   "source": [
    "# =============================================================================\n",
    "# Dropping unwanted columns\n",
    "# =============================================================================\n",
    "\n",
    "col=['name','dateCrawled','dateCreated','postalCode','lastSeen']\n",
    "cars=cars.drop(columns=col, axis=1)"
   ]
  },
  {
   "cell_type": "code",
   "execution_count": 5,
   "id": "fe5420fa",
   "metadata": {},
   "outputs": [],
   "source": [
    "# =============================================================================\n",
    "# Removing duplicate records\n",
    "# =============================================================================\n",
    "\n",
    "cars.drop_duplicates(keep='first',inplace=True)\n",
    "#470 duplicate records"
   ]
  },
  {
   "cell_type": "code",
   "execution_count": 6,
   "id": "cd44f62b",
   "metadata": {},
   "outputs": [
    {
     "data": {
      "text/plain": [
       "seller                    0\n",
       "offerType                 0\n",
       "price                     0\n",
       "abtest                    0\n",
       "vehicleType            5152\n",
       "yearOfRegistration        0\n",
       "gearbox                2765\n",
       "powerPS                   0\n",
       "model                  2730\n",
       "kilometer                 0\n",
       "monthOfRegistration       0\n",
       "fuelType               4467\n",
       "brand                     0\n",
       "notRepairedDamage      9640\n",
       "dtype: int64"
      ]
     },
     "execution_count": 6,
     "metadata": {},
     "output_type": "execute_result"
    }
   ],
   "source": [
    "# =============================================================================\n",
    "# Data cleaning\n",
    "# =============================================================================\n",
    "\n",
    "# No. of missing values in each column\n",
    "cars.isnull().sum()"
   ]
  },
  {
   "cell_type": "code",
   "execution_count": 6,
   "id": "c74e78ba",
   "metadata": {},
   "outputs": [],
   "source": [
    "# Working range of data\n",
    "\n",
    "cars = cars[\n",
    "        (cars.yearOfRegistration <= 2018) \n",
    "      & (cars.yearOfRegistration >= 1950) \n",
    "      & (cars.price >= 100) \n",
    "      & (cars.price <= 150000) \n",
    "      & (cars.powerPS >= 10) \n",
    "      & (cars.powerPS <= 500)]\n",
    "# ~6700 records are dropped"
   ]
  },
  {
   "cell_type": "code",
   "execution_count": 7,
   "id": "94820da2",
   "metadata": {},
   "outputs": [
    {
     "data": {
      "text/plain": [
       "count    42772.000000\n",
       "mean        14.872642\n",
       "std          7.093125\n",
       "min          0.000000\n",
       "25%         10.330000\n",
       "50%         14.830000\n",
       "75%         19.170000\n",
       "max         67.750000\n",
       "Name: Age, dtype: float64"
      ]
     },
     "execution_count": 7,
     "metadata": {},
     "output_type": "execute_result"
    }
   ],
   "source": [
    "# Further to simplify- variable reduction\n",
    "# Combining yearOfRegistration and monthOfRegistration\n",
    "\n",
    "cars['monthOfRegistration']/=12\n",
    "\n",
    "# Creating new varible Age by adding yearOfRegistration and monthOfRegistration\n",
    "cars['Age']=(2018-cars['yearOfRegistration'])+cars['monthOfRegistration']\n",
    "cars['Age']=round(cars['Age'],2)\n",
    "cars['Age'].describe()"
   ]
  },
  {
   "cell_type": "code",
   "execution_count": 8,
   "id": "268ae6b3",
   "metadata": {},
   "outputs": [],
   "source": [
    "# Dropping yearOfRegistration and monthOfRegistration\n",
    "cars=cars.drop(columns=['yearOfRegistration','monthOfRegistration'], axis=1)"
   ]
  },
  {
   "cell_type": "code",
   "execution_count": 9,
   "id": "12bb0f26",
   "metadata": {},
   "outputs": [],
   "source": [
    "# =============================================================================\n",
    "# Removing insignificant variables\n",
    "# =============================================================================\n",
    "\n",
    "col=['seller','offerType','abtest']\n",
    "cars=cars.drop(columns=col, axis=1)\n",
    "cars_copy=cars.copy()"
   ]
  },
  {
   "cell_type": "code",
   "execution_count": 10,
   "id": "dad70adc",
   "metadata": {},
   "outputs": [],
   "source": [
    "\"\"\"\n",
    "We are going to build a Linear Regression and Random Forest model\n",
    "on two sets of data.\n",
    "1. Data obtained by omitting rows with any missing value\n",
    "2. Data obtained by imputing the missing values \n",
    "\"\"\"\n",
    "\n",
    "# =============================================================================\n",
    "# OMITTING MISSING VALUES\n",
    "# =============================================================================\n",
    "\n",
    "cars_omit=cars.dropna(axis=0)"
   ]
  },
  {
   "cell_type": "code",
   "execution_count": 11,
   "id": "d98984d6",
   "metadata": {},
   "outputs": [
    {
     "data": {
      "text/plain": [
       "Index(['price', 'vehicleType', 'gearbox', 'powerPS', 'model', 'kilometer',\n",
       "       'fuelType', 'brand', 'notRepairedDamage', 'Age'],\n",
       "      dtype='object')"
      ]
     },
     "execution_count": 11,
     "metadata": {},
     "output_type": "execute_result"
    }
   ],
   "source": [
    "#new\n",
    "cars_omit.columns"
   ]
  },
  {
   "cell_type": "code",
   "execution_count": 12,
   "id": "198ea436",
   "metadata": {},
   "outputs": [
    {
     "data": {
      "text/html": [
       "<div>\n",
       "<style scoped>\n",
       "    .dataframe tbody tr th:only-of-type {\n",
       "        vertical-align: middle;\n",
       "    }\n",
       "\n",
       "    .dataframe tbody tr th {\n",
       "        vertical-align: top;\n",
       "    }\n",
       "\n",
       "    .dataframe thead th {\n",
       "        text-align: right;\n",
       "    }\n",
       "</style>\n",
       "<table border=\"1\" class=\"dataframe\">\n",
       "  <thead>\n",
       "    <tr style=\"text-align: right;\">\n",
       "      <th></th>\n",
       "      <th>price</th>\n",
       "      <th>vehicleType</th>\n",
       "      <th>gearbox</th>\n",
       "      <th>powerPS</th>\n",
       "      <th>model</th>\n",
       "      <th>kilometer</th>\n",
       "      <th>fuelType</th>\n",
       "      <th>brand</th>\n",
       "      <th>notRepairedDamage</th>\n",
       "      <th>Age</th>\n",
       "    </tr>\n",
       "  </thead>\n",
       "  <tbody>\n",
       "    <tr>\n",
       "      <th>1</th>\n",
       "      <td>13299</td>\n",
       "      <td>suv</td>\n",
       "      <td>manual</td>\n",
       "      <td>163</td>\n",
       "      <td>xc_reihe</td>\n",
       "      <td>150000</td>\n",
       "      <td>diesel</td>\n",
       "      <td>volvo</td>\n",
       "      <td>no</td>\n",
       "      <td>13.50</td>\n",
       "    </tr>\n",
       "    <tr>\n",
       "      <th>3</th>\n",
       "      <td>4500</td>\n",
       "      <td>small car</td>\n",
       "      <td>manual</td>\n",
       "      <td>86</td>\n",
       "      <td>ibiza</td>\n",
       "      <td>60000</td>\n",
       "      <td>petrol</td>\n",
       "      <td>seat</td>\n",
       "      <td>no</td>\n",
       "      <td>13.00</td>\n",
       "    </tr>\n",
       "    <tr>\n",
       "      <th>4</th>\n",
       "      <td>18750</td>\n",
       "      <td>suv</td>\n",
       "      <td>automatic</td>\n",
       "      <td>185</td>\n",
       "      <td>xc_reihe</td>\n",
       "      <td>150000</td>\n",
       "      <td>diesel</td>\n",
       "      <td>volvo</td>\n",
       "      <td>no</td>\n",
       "      <td>10.92</td>\n",
       "    </tr>\n",
       "    <tr>\n",
       "      <th>5</th>\n",
       "      <td>988</td>\n",
       "      <td>limousine</td>\n",
       "      <td>manual</td>\n",
       "      <td>90</td>\n",
       "      <td>passat</td>\n",
       "      <td>150000</td>\n",
       "      <td>petrol</td>\n",
       "      <td>volkswagen</td>\n",
       "      <td>no</td>\n",
       "      <td>23.17</td>\n",
       "    </tr>\n",
       "    <tr>\n",
       "      <th>7</th>\n",
       "      <td>1399</td>\n",
       "      <td>coupe</td>\n",
       "      <td>manual</td>\n",
       "      <td>136</td>\n",
       "      <td>clk</td>\n",
       "      <td>150000</td>\n",
       "      <td>petrol</td>\n",
       "      <td>mercedes_benz</td>\n",
       "      <td>no</td>\n",
       "      <td>21.92</td>\n",
       "    </tr>\n",
       "  </tbody>\n",
       "</table>\n",
       "</div>"
      ],
      "text/plain": [
       "   price vehicleType    gearbox  powerPS     model  kilometer fuelType  \\\n",
       "1  13299         suv     manual      163  xc_reihe     150000   diesel   \n",
       "3   4500   small car     manual       86     ibiza      60000   petrol   \n",
       "4  18750         suv  automatic      185  xc_reihe     150000   diesel   \n",
       "5    988   limousine     manual       90    passat     150000   petrol   \n",
       "7   1399       coupe     manual      136       clk     150000   petrol   \n",
       "\n",
       "           brand notRepairedDamage    Age  \n",
       "1          volvo                no  13.50  \n",
       "3           seat                no  13.00  \n",
       "4          volvo                no  10.92  \n",
       "5     volkswagen                no  23.17  \n",
       "7  mercedes_benz                no  21.92  "
      ]
     },
     "execution_count": 12,
     "metadata": {},
     "output_type": "execute_result"
    }
   ],
   "source": [
    "cars_omit.head()"
   ]
  },
  {
   "cell_type": "code",
   "execution_count": 13,
   "id": "9087137a",
   "metadata": {},
   "outputs": [
    {
     "name": "stdout",
     "output_type": "stream",
     "text": [
      "(23018, 9) (9866, 9) (23018,) (9866,)\n"
     ]
    }
   ],
   "source": [
    "from sklearn.model_selection import train_test_split\n",
    "# Separating input and output features\n",
    "x1 = cars_omit.drop(['price'], axis='columns', inplace=False)\n",
    "y1 = cars_omit['price']\n",
    "X_train, X_test, y_train, y_test = train_test_split(x1, y1, test_size=0.3, random_state = 3)\n",
    "print(X_train.shape, X_test.shape, y_train.shape, y_test.shape)"
   ]
  },
  {
   "cell_type": "code",
   "execution_count": 14,
   "id": "ac224437",
   "metadata": {},
   "outputs": [
    {
     "data": {
      "text/plain": [
       "Index(['vehicleType', 'gearbox', 'powerPS', 'model', 'kilometer', 'fuelType',\n",
       "       'brand', 'notRepairedDamage', 'Age'],\n",
       "      dtype='object')"
      ]
     },
     "execution_count": 14,
     "metadata": {},
     "output_type": "execute_result"
    }
   ],
   "source": [
    "X_train.columns\n",
    "# y_train[:10]"
   ]
  },
  {
   "cell_type": "code",
   "execution_count": 15,
   "id": "f169ee33",
   "metadata": {},
   "outputs": [],
   "source": [
    "#new\n",
    "categorical = ['vehicleType', 'gearbox','model', 'fuelType', 'brand', 'notRepairedDamage']\n",
    "numerical = ['powerPS','kilometer','Age']\n",
    "\n",
    "X_train[categorical] = X_train[categorical].astype(str)"
   ]
  },
  {
   "cell_type": "code",
   "execution_count": 16,
   "id": "15d511dc",
   "metadata": {},
   "outputs": [
    {
     "data": {
      "text/plain": [
       "vehicleType           object\n",
       "gearbox               object\n",
       "powerPS                int64\n",
       "model                 object\n",
       "kilometer              int64\n",
       "fuelType              object\n",
       "brand                 object\n",
       "notRepairedDamage     object\n",
       "Age                  float64\n",
       "dtype: object"
      ]
     },
     "execution_count": 16,
     "metadata": {},
     "output_type": "execute_result"
    }
   ],
   "source": [
    "X_train.dtypes"
   ]
  },
  {
   "cell_type": "code",
   "execution_count": 17,
   "id": "1ab7e977",
   "metadata": {},
   "outputs": [
    {
     "data": {
      "text/plain": [
       "0.5336009976402414"
      ]
     },
     "execution_count": 17,
     "metadata": {},
     "output_type": "execute_result"
    }
   ],
   "source": [
    "\n",
    "#new\n",
    "\n",
    "from sklearn.feature_extraction import DictVectorizer\n",
    "from sklearn.linear_model import LinearRegression\n",
    "from sklearn.metrics import mean_squared_error\n",
    "\n",
    "dv = DictVectorizer()\n",
    "train_dicts = X_train[categorical + numerical].to_dict(orient='records')\n",
    "X_train = dv.fit_transform(train_dicts)\n",
    "\n",
    "\n",
    "test_dicts = X_test[categorical + numerical].to_dict(orient='records')\n",
    "X_test = dv.transform(test_dicts)\n",
    "\n",
    "\n",
    "# # target = 'price'\n",
    "y_train = np.log(y_train.values)\n",
    "y_test = np.log(y_test.values)\n",
    "\n",
    "lr = LinearRegression()\n",
    "lr.fit(X_train, y_train)\n",
    "\n",
    "y_pred = lr.predict(X_train)\n",
    "\n",
    "mean_squared_error(y_train, y_pred, squared=False)\n",
    "\n",
    "# # Setting intercept as true\n",
    "# lgr=LinearRegression(fit_intercept=True)\n",
    "\n",
    "# # Model\n",
    "# model_lin1=lgr.fit(X_train,y_train)\n",
    "\n",
    "# # Predicting model on test set\n",
    "# cars_predictions_lin1 = lgr.predict(X_test)\n",
    "\n",
    "# # Computing MSE and RMSE\n",
    "# lin_mse1 = mean_squared_error(y_test, cars_predictions_lin1)\n",
    "# lin_rmse1 = np.sqrt(lin_mse1)\n",
    "# print(lin_rmse1)"
   ]
  },
  {
   "cell_type": "code",
   "execution_count": 18,
   "id": "78a14f2a",
   "metadata": {},
   "outputs": [
    {
     "name": "stderr",
     "output_type": "stream",
     "text": [
      "/home/modf/anaconda3/lib/python3.9/site-packages/seaborn/distributions.py:2619: FutureWarning: `distplot` is a deprecated function and will be removed in a future version. Please adapt your code to use either `displot` (a figure-level function with similar flexibility) or `histplot` (an axes-level function for histograms).\n",
      "  warnings.warn(msg, FutureWarning)\n",
      "/home/modf/anaconda3/lib/python3.9/site-packages/seaborn/distributions.py:2619: FutureWarning: `distplot` is a deprecated function and will be removed in a future version. Please adapt your code to use either `displot` (a figure-level function with similar flexibility) or `histplot` (an axes-level function for histograms).\n",
      "  warnings.warn(msg, FutureWarning)\n"
     ]
    },
    {
     "ename": "NameError",
     "evalue": "name 'plt' is not defined",
     "output_type": "error",
     "traceback": [
      "\u001b[0;31m---------------------------------------------------------------------------\u001b[0m",
      "\u001b[0;31mNameError\u001b[0m                                 Traceback (most recent call last)",
      "Input \u001b[0;32mIn [18]\u001b[0m, in \u001b[0;36m<cell line: 4>\u001b[0;34m()\u001b[0m\n\u001b[1;32m      1\u001b[0m sns\u001b[38;5;241m.\u001b[39mdistplot(y_pred, label\u001b[38;5;241m=\u001b[39m\u001b[38;5;124m'\u001b[39m\u001b[38;5;124mprediction\u001b[39m\u001b[38;5;124m'\u001b[39m)\n\u001b[1;32m      2\u001b[0m sns\u001b[38;5;241m.\u001b[39mdistplot(y_train, label\u001b[38;5;241m=\u001b[39m\u001b[38;5;124m'\u001b[39m\u001b[38;5;124mactual\u001b[39m\u001b[38;5;124m'\u001b[39m)\n\u001b[0;32m----> 4\u001b[0m \u001b[43mplt\u001b[49m\u001b[38;5;241m.\u001b[39mlegend()\n",
      "\u001b[0;31mNameError\u001b[0m: name 'plt' is not defined"
     ]
    },
    {
     "data": {
      "image/png": "[encoded data removed]",
      "text/plain": [
       "<Figure size 432x288 with 1 Axes>"
      ]
     },
     "metadata": {
      "needs_background": "light"
     },
     "output_type": "display_data"
    }
   ],
   "source": [
    "sns.distplot(y_pred, label='prediction')\n",
    "sns.distplot(y_train, label='actual')\n",
    "\n",
    "plt.legend()"
   ]
  },
  {
   "cell_type": "code",
   "execution_count": 23,
   "id": "8b67ef52",
   "metadata": {},
   "outputs": [],
   "source": [
    "with open('models/lin_reg.bin', 'wb') as f_out:\n",
    "    pickle.dump((dv, lr), f_out)\n"
   ]
  },
  {
   "cell_type": "code",
   "execution_count": null,
   "id": "c378470e",
   "metadata": {},
   "outputs": [],
   "source": []
  }
 ],
 "metadata": {
  "kernelspec": {
   "display_name": "Python 3 (ipykernel)",
   "language": "python",
   "name": "python3"
  },
  "language_info": {
   "codemirror_mode": {
    "name": "ipython",
    "version": 3
   },
   "file_extension": ".py",
   "mimetype": "text/x-python",
   "name": "python",
   "nbconvert_exporter": "python",
   "pygments_lexer": "ipython3",
   "version": "3.9.12"
  }
 },
 "nbformat": 4,
 "nbformat_minor": 5
}
